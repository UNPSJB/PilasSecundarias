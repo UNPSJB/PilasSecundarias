{
 "cells": [
  {
   "cell_type": "markdown",
   "metadata": {
    "slideshow": {
     "slide_type": "slide"
    }
   },
   "source": [
    "# PILAS ENGINE\n",
    "\n",
    "Herramienta que permite crear tus propios videojuegos y aprender a programar\n"
   ]
  },
  {
   "cell_type": "markdown",
   "metadata": {
    "slideshow": {
     "slide_type": "slide"
    }
   },
   "source": [
    "##Características\n",
    "\n",
    " * Es multiplataforma.\n",
    " * Cuenta con objetos prediseñados para agilizar el desarrollo.\n",
    " * Documentación en español.\n",
    " * Es software libre.\n",
    " * Interactivo."
   ]
  },
  {
   "cell_type": "markdown",
   "metadata": {
    "slideshow": {
     "slide_type": "slide"
    }
   },
   "source": [
    "##Instalación\n",
    "\n",
    "Es fácil para cada Sistema Operativo. \n",
    "\n",
    "Se descarga del sitio web: http://www.pilas-engine.com.ar/descargas.html\n"
   ]
  },
  {
   "cell_type": "markdown",
   "metadata": {
    "slideshow": {
     "slide_type": "slide"
    }
   },
   "source": [
    "##Iniciando Pilas\n",
    "\n",
    "![Pilas](CapturaEntornoInicial.png)\n",
    "\n"
   ]
  },
  {
   "cell_type": "markdown",
   "metadata": {
    "slideshow": {
     "slide_type": "slide"
    }
   },
   "source": [
    "##Intérprete de Pilas\n",
    "\n",
    "Haz click en abrir el intérprete y aparecerá la siguiente ventana.\n",
    "\n",
    "![Pilas](Interprete.png)\n",
    "\n",
    "El intérprete es interactivo. Permite escribir código Python y autocompletar el nombre de las funciones."
   ]
  },
  {
   "cell_type": "markdown",
   "metadata": {
    "slideshow": {
     "slide_type": "slide"
    }
   },
   "source": [
    "##Líneas iniciales\n",
    "\n",
    "\n",
    "\n",
    "```python\n",
    "\n",
    "import pilasengine              #Le indica a Python que use la librería Pilas\n",
    "\n",
    "pilas = pilasengine.iniciar()   #Prepara la ventana para empezar a usar Pilas\n",
    "mono = pilas.actores.Mono()     #Crea un personaje mono en el centro de la pantalla y le da un nombre\n",
    "\n",
    "```"
   ]
  },
  {
   "cell_type": "markdown",
   "metadata": {
    "slideshow": {
     "slide_type": "slide"
    }
   },
   "source": [
    "##Creando Personajes\n",
    "\n",
    "Un Actor es un objeto que aparece en pantalla, tiene una posición y se lo puede manipular.\n",
    "\n",
    "El mono inicialmente aparece en la posición (0,0).\n",
    "\n",
    "![Pilas](Posicion.png)\n",
    "\n"
   ]
  },
  {
   "cell_type": "markdown",
   "metadata": {
    "slideshow": {
     "slide_type": "slide"
    }
   },
   "source": [
    "##Indicar acciones al personaje\n",
    "\n",
    "Esto se logra usando su nombre y sentencias simples.\n",
    "\n",
    "Por ejemplo, podemos lograr que el mono sonría escribiendo la siguiente instrucción:\n",
    "\n",
    "```python\n",
    "mono.sonreir()\n",
    "\n",
    "```\n",
    "![Pilas](Sonreir.png)\n"
   ]
  },
  {
   "cell_type": "markdown",
   "metadata": {
    "slideshow": {
     "slide_type": "slide"
    }
   },
   "source": [
    "##Características comunes a todos los actores\n",
    "\n",
    "###Posición\n",
    "\n",
    "Se puede cambiar la posición del actor mediante las coordenadas x e y\n",
    "\n",
    "```python\n",
    "mono.x = 100\n",
    "mono.y = 100\n",
    "\n",
    "```\n",
    "![Pilas](PosicionCambiada.png)"
   ]
  },
  {
   "cell_type": "markdown",
   "metadata": {
    "slideshow": {
     "slide_type": "slide"
    }
   },
   "source": [
    "###Escala y Rotación\n",
    "\n",
    "Se puede modificar el tamaño e indicar la rotación en grados que debe tener el actor\n",
    "\n",
    "```python\n",
    "mono.escala = 2\n",
    "mono.rotacion = 45\n",
    "```\n",
    "![Pilas](GiradoyEscalado.png)"
   ]
  },
  {
   "cell_type": "markdown",
   "metadata": {
    "slideshow": {
     "slide_type": "slide"
    }
   },
   "source": [
    "### Cambiar atributos con botón derecho\n",
    "\n",
    "Podemos modificar varios atributos sin reescribir el valor. Utilizando el botón derecho del mouse (o del trackpad de tu netbook) podés usar un control deslizable que previsualizará en vivo los cambios. Se pude usar con los los atributos escala, rotacion, x, y, etc.\n",
    "\n",
    "![Pilas](agrandar_con_boton_derecho.png)"
   ]
  },
  {
   "cell_type": "markdown",
   "metadata": {
    "slideshow": {
     "slide_type": "slide"
    }
   },
   "source": [
    "###Eliminar Actor\n",
    "\n",
    "Se puede sacar un actor de la pantalla utilizando la instrucción eliminar()\n",
    "\n",
    "```python\n",
    "mono.eliminar()\n",
    "```"
   ]
  },
  {
   "cell_type": "markdown",
   "metadata": {
    "slideshow": {
     "slide_type": "slide"
    }
   },
   "source": [
    "###Animaciones\n",
    "\n",
    "Podemos usar las propiedades anteriores para hacer animaciones. Por ejemplo:\n",
    "\n",
    " * El actor puede dar una vuelta completa\n",
    "```python\n",
    "mono.rotacion = [360]\n",
    "```\n",
    " \n",
    " * El actor puede moverse horizontalmente\n",
    "```python\n",
    "mono.x = [-200,200]\n",
    "```\n",
    "\n",
    " * Repetir n veces la animación\n",
    "```python\n",
    "mono.x = [-200,200]*5\n",
    "```\n",
    " \n",
    " * Variar la velocidad de la animación\n",
    "```python\n",
    "mono.x = [-200,200],10\n",
    "```"
   ]
  },
  {
   "cell_type": "markdown",
   "metadata": {
    "slideshow": {
     "slide_type": "slide"
    }
   },
   "source": [
    "##Ayuda en línea\n",
    "\n",
    "![Pilas](AyudaEnLinea.png)"
   ]
  },
  {
   "cell_type": "markdown",
   "metadata": {
    "slideshow": {
     "slide_type": "slide"
    }
   },
   "source": [
    "##Conceptos básicos\n",
    "\n",
    "###Programación ¿Para qué?\n",
    "\n",
    "Para darle órdenes a la computadora\n",
    "\n",
    "###Instrucciones\n",
    "\n",
    "1. Crear una ventana\n",
    "2. Crear una Nave\n",
    "3. Duplicar su tamaño\n",
    "4. Mover 10 pixeles hacia arriba"
   ]
  },
  {
   "cell_type": "markdown",
   "metadata": {
    "slideshow": {
     "slide_type": "slide"
    }
   },
   "source": [
    "###Sintaxis\n",
    "\n",
    "Conjunto de reglas que deben seguirse al escribir código para que pueda interpretarlo correctamemte la computadora.\n",
    "\n",
    "```python\n",
    "pilas.iniciar(300,200)      #Creo la ventana\n",
    "nave = pilas.actores.Nave() #Creo la Nave\n",
    "nave.escala = 2             #Duplico su tamaño         \n",
    "nave.y = 10                 #Muevo la nave 10 pixeles hacia arriba\n",
    "```\n",
    "\n",
    "![Pilas](Nave.png)"
   ]
  },
  {
   "cell_type": "markdown",
   "metadata": {
    "slideshow": {
     "slide_type": "slide"
    }
   },
   "source": [
    "###Autocompletado\n",
    "\n",
    "![Pilas](Autocompletado.png)"
   ]
  },
  {
   "cell_type": "markdown",
   "metadata": {
    "slideshow": {
     "slide_type": "slide"
    }
   },
   "source": [
    "###Error de Sintáxis\n",
    "\n",
    "Pilas informa el error de sintáxis cometido. En el ejemplo muestra que el nombre del personaje no está definido\n",
    "\n",
    "![Pilas](ErrorSintaxis.png)"
   ]
  },
  {
   "cell_type": "markdown",
   "metadata": {
    "slideshow": {
     "slide_type": "slide"
    }
   },
   "source": [
    "##Variables\n",
    "\n",
    "El nombre de variable sirve para referirnos a un actor y poder realizar acciones sobre él.\n",
    "\n",
    "Por ejemplo: nave es el nombre de una variable.\n",
    "\n",
    "Uno puede crear varias naves utilizando distintos nombres de variables. Para realizar acciones con cada nave se debe utilzar el nombre que le hemos otorgado.\n",
    "\n",
    "![Pilas](VariasNaves.png)\n",
    "\n",
    "Si quiero eliminar la primera nave debo utilizar el nombre de variable nave.\n"
   ]
  },
  {
   "cell_type": "markdown",
   "metadata": {
    "slideshow": {
     "slide_type": "slide"
    }
   },
   "source": [
    "##Habilidades\n",
    "\n",
    "Una habilidad es una funcionalidad que está implementada en alguna clase y puede ser vinculada a un actor cualquiera.\n",
    "\n",
    "Ejemplo: Aumentar el tamaño de un actor con la rueda del mouse. Para lograr esto se puede utilizar la habilidad **_AumentarConRueda_**\n",
    "\n",
    "```python\n",
    "import pilasengine\n",
    "\n",
    "pilas = pilasengine.iniciar()\n",
    "\n",
    "mono = pilas.actores.Mono()\n",
    "mono.aprender(pilas.habilidades.AumentarConRueda)\n",
    "```\n",
    "\n",
    "![Pilas](Habilidad.png)\n",
    "\n",
    "\n",
    "\n",
    "\n",
    "o bien se puede usar directamente la instrucción \n",
    "\n",
    "```python\n",
    "mono.aprender('AumentarConRueda')\n",
    "```"
   ]
  },
  {
   "cell_type": "markdown",
   "metadata": {
    "slideshow": {
     "slide_type": "slide"
    }
   },
   "source": [
    "Otro Ejemplo: Hacer que un actor se pueda mover con el mouse. Para esto se utiliza la habilidad **_Arrastrable_**\n",
    "\n",
    "```python\n",
    "import pilasengine\n",
    "\n",
    "pilas = pilasengine.iniciar()\n",
    "\n",
    "mono = pilas.actores.Mono()\n",
    "mono.aprender(\"arrastrable\")\n",
    "```"
   ]
  },
  {
   "cell_type": "markdown",
   "metadata": {
    "slideshow": {
     "slide_type": "slide"
    }
   },
   "source": [
    "###Disparar\n",
    "\n",
    "```python\n",
    "import pilasengine\n",
    "\n",
    "pilas = pilasengine.iniciar()\n",
    "\n",
    "mono = pilas.actores.Mono()\n",
    "mono.aprender(\"moverseComoCoche\")\n",
    "mono.aprender(\"disparar\")\n",
    "```\n",
    "\n",
    "En el ejemplo anterior la munición utilizada es por omisión. Si se quiere cambiar la munición se debe especificar.\n",
    "\n",
    "```python\n",
    "mono.aprender(\"disparar\", municion=\"aceituna\")\n",
    "```\n",
    "![Pilas](DisparaAceituna.png)"
   ]
  },
  {
   "cell_type": "markdown",
   "metadata": {
    "slideshow": {
     "slide_type": "slide"
    }
   },
   "source": [
    "##Fondo de la Escena\n",
    "\n",
    "Cuando uno inicia Pilas el fondo de nuestra pantalla es todo azul. Hay fondos predefinidos que ofrece Pilas. Se puede cambiar el mismo usando la siguiente sentencia de código:\n",
    "\n",
    "```python\n",
    "pilas.fondos.Volley()\n",
    "```\n",
    "![Pilas](Fondo.png)"
   ]
  },
  {
   "cell_type": "markdown",
   "metadata": {
    "slideshow": {
     "slide_type": "slide"
    }
   },
   "source": [
    "##Editor de Texto\n",
    "\n",
    "El problema del Intérprete es que elimina todo lo que hicimos cuando lo cerramos. El intérprete sirve para hacer pruebas o experimentos rápidos. Para hacer nuestro juego vamos a utilizar el editor de texto que nos ofrece Pilas. El mismo nos permite guardar nuestro código, editarlo y compartirlo.\n",
    "\n",
    "\n",
    "![Pilas](EditorTexto.png)\n",
    "\n",
    "\n",
    "Es importante escribir la línea **pilas.ejecutar()** en el editor de texto porque hace que el juego se mantenga en funcionamiento. En el intérprete no es necesario escribirla.\n",
    "\n"
   ]
  },
  {
   "cell_type": "markdown",
   "metadata": {
    "slideshow": {
     "slide_type": "slide"
    }
   },
   "source": [
    "# Creando actores\n",
    "\n",
    "Los actores sirven para representar a los personajes dentro del videojuego. Tienen sus propios atributos, apariencia y comportamiento.\n",
    "\n",
    "Pilas ofrece una cantidad de actores prediseñados o te permite crear tu propio actor.\n",
    "\n",
    "##Creando tu propio actor\n",
    "\n",
    "```python\n",
    "\n",
    "actor = pilas.actores.Actor()\n",
    "\n",
    "```\n",
    "![Pilas](Actor.png)"
   ]
  },
  {
   "cell_type": "markdown",
   "metadata": {
    "slideshow": {
     "slide_type": "slide"
    }
   },
   "source": [
    "##Agregando imagen al actor\n",
    "\n",
    "```python\n",
    "actor.imagen = 'calabaza.png'\n",
    "```\n",
    "\n",
    "![Pilas](ActorImagen.png)"
   ]
  },
  {
   "cell_type": "code",
   "execution_count": 3,
   "metadata": {
    "collapsed": false,
    "slideshow": {
     "slide_type": "skip"
    }
   },
   "outputs": [
    {
     "name": "stdout",
     "output_type": "stream",
     "text": [
      "Microsoft Windows [Versi¢n 6.3.9600]\r\n",
      "(c) 2013 Microsoft Corporation. Todos los derechos reservados.\r\n",
      "\r\n",
      "C:\\Users\\Jimena\\Dropbox\\pilas-secundarias-master>ipython nbconvert --to slides \"Entorno Pilas.ipynb\"\n",
      "\r\n",
      "C:\\Users\\Jimena\\Dropbox\\pilas-secundarias-master>"
     ]
    },
    {
     "name": "stderr",
     "output_type": "stream",
     "text": [
      "[NbConvertApp] Converting notebook Entorno Pilas.ipynb to slides\r\n",
      "[NbConvertApp] Writing 221814 bytes to Entorno Pilas.slides.html\r\n"
     ]
    }
   ],
   "source": [
    "%%cmd\n",
    "ipython nbconvert --to slides \"Entorno Pilas.ipynb\"\n"
   ]
  },
  {
   "cell_type": "code",
   "execution_count": null,
   "metadata": {
    "collapsed": true
   },
   "outputs": [],
   "source": []
  }
 ],
 "metadata": {
  "celltoolbar": "Slideshow",
  "kernelspec": {
   "display_name": "Python 3",
   "language": "python",
   "name": "python3"
  },
  "language_info": {
   "codemirror_mode": {
    "name": "ipython",
    "version": 3
   },
   "file_extension": ".py",
   "mimetype": "text/x-python",
   "name": "python",
   "nbconvert_exporter": "python",
   "pygments_lexer": "ipython3",
   "version": "3.4.3"
  }
 },
 "nbformat": 4,
 "nbformat_minor": 0
}
