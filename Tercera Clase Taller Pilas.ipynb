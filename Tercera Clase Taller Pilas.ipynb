{
 "cells": [
  {
   "cell_type": "markdown",
   "metadata": {
    "slideshow": {
     "slide_type": "slide"
    }
   },
   "source": [
    "##Sonido\n",
    "\n",
    "Todos los ejemplos que mostremos usando el módulo **pilas.sonidos** funcionan para el módulo **pilas.musica**\n",
    "\n",
    "Para cargar un sonido se debe usar el módulo sonidos de la siguiente manera:\n",
    "\n",
    "```python\n",
    "sonido_de_explosion = pilas.sonidos.cargar('explosion.wav')\n",
    "```\n",
    "\n",
    "Para reproducir un sonido se debe llamar al método **_reproducir_**\n",
    "```python\n",
    "sonido_de_explosion.reproducir()\n",
    "```\n",
    "\n",
    "Para reproducir el sonido indefinidamente se debe utilizar el parámetro repetir=True\n",
    "```python\n",
    "sonido_de_explosion.reproducir(repetir=True)\n",
    "```\n",
    "\n",
    "Para detener el sonido o la música se debe utilizar el método **_detener_**\n",
    "```python\n",
    "sonido_de_explosion.detener()\n",
    "```"
   ]
  },
  {
   "cell_type": "markdown",
   "metadata": {
    "slideshow": {
     "slide_type": "slide"
    }
   },
   "source": [
    "##Escenas\n",
    "\n",
    "Las escenas te permiten dividir el juego en diferentes partes.\n",
    "\n",
    "![Pilas](Escenas.png)\n",
    "\n",
    "###Aspectos a tener en cuenta:\n",
    "\n",
    " * La escena actual esta señalada siempre por el atributo pilas.escena_actual.\n",
    " * Solo puede haber una escena activa a la vez.\n",
    "\n",
    "\n",
    "###Escena Normal\n",
    "\n",
    "Cuando iniciamos Pilas por primera se crea una escena llamada Normal. Esta escena solo imprime una pantalla azul y nos permite colocar actores sobre ella."
   ]
  },
  {
   "cell_type": "markdown",
   "metadata": {
    "slideshow": {
     "slide_type": "slide"
    }
   },
   "source": [
    "##Creando nuevas escenas\n",
    "\n",
    "```python\n",
    "import pilasengine\n",
    "\n",
    "pilas = pilasengine.iniciar()\n",
    "\n",
    "class PantallaBienvenida(pilasengine.escenas.Escena):\n",
    "\n",
    "    def iniciar(self, mensaje):\n",
    "        pilas.fondos.Pasto()\n",
    "        self.texto = pilas.actores.Texto(mensaje)\n",
    "\n",
    "    def actualizar(self):\n",
    "        self.texto.rotacion += 0.1\n",
    "\n",
    "pilas.escenas.vincular(PantallaBienvenida)\n",
    "pilas.escenas.PantallaBienvenida(\"Bienvenidos al Taller de Pilas!!\")\n",
    "pilas.ejecutar()\n",
    "```"
   ]
  },
  {
   "cell_type": "markdown",
   "metadata": {
    "slideshow": {
     "slide_type": "slide"
    }
   },
   "source": [
    "![Pilas](EscenaBienvenida.png)"
   ]
  },
  {
   "cell_type": "markdown",
   "metadata": {
    "slideshow": {
     "slide_type": "slide"
    }
   },
   "source": [
    "##Botón\n",
    "\n",
    "```python\n",
    "import pilasengine\n",
    "\n",
    "pilas = pilasengine.iniciar()\n",
    "\n",
    "boton = pilas.interfaz.Boton('Saludar')\n",
    "def saludar():\n",
    "    boton.decir('hola')\n",
    "\n",
    "boton.conectar(saludar)\n",
    "    \n",
    "\n",
    "pilas.ejecutar()\n",
    "```\n",
    "![Pilas](BotonSaludar.png)\n"
   ]
  },
  {
   "cell_type": "markdown",
   "metadata": {
    "slideshow": {
     "slide_type": "slide"
    }
   },
   "source": [
    "##Como crear menúes\n",
    "\n",
    "Para crear menúes en los juegos se debe utilizar el actor **Menu**. Nos permite representar diferentes opciones.\n",
    "\n",
    "```python\n",
    "import pilasengine\n",
    "\n",
    "pilas = pilasengine.iniciar()\n",
    "\n",
    "pilas.fondos.Selva()\n",
    "\n",
    "def iniciar_juego():\n",
    "    pilas.fondos.Tarde()\n",
    "    \n",
    "def salir_del_juego():\n",
    "    pilas.terminar()\n",
    "    \n",
    "\n",
    "mi_menu = pilas.actores.Menu([('iniciar juego', iniciar_juego),('salir', salir_del_juego),\n",
    "        ])\n",
    "\n",
    "mi_menu.escala = 1\n",
    "mi_menu.x = [300,0]\n",
    "\n",
    "pilas.ejecutar()\n",
    "```"
   ]
  },
  {
   "cell_type": "markdown",
   "metadata": {
    "collapsed": true,
    "slideshow": {
     "slide_type": "slide"
    }
   },
   "source": [
    "![Pilas](Menu.png)"
   ]
  },
  {
   "cell_type": "markdown",
   "metadata": {
    "slideshow": {
     "slide_type": "slide"
    }
   },
   "source": [
    "##Creación de habilidades personalizadas\n",
    "\n",
    "Para crear una habilidad nueva, se debe crear una clase y vincularla al módulo de habilidades.\n",
    "\n",
    "La clase tiene que heredar de pilasengine.habilidades.Habilidad y puede tener un método actualizar, en donde generalmente se coloca la acción a realizar:\n",
    "\n",
    "```python\n",
    "import pilasengine\n",
    "\n",
    "pilas = pilasengine.iniciar()\n",
    "\n",
    "class GirarPorSiempre(pilasengine.habilidades.Habilidad):\n",
    "\n",
    "    def actualizar(self):\n",
    "        self.receptor.rotacion += 1        #self.receptor apunta al actor que conoce esta habilidad\n",
    "\n",
    "pilas.habilidades.vincular(GirarPorSiempre)   #Se vincula la nueva habilidad al módulo de habilidades\n",
    "\n",
    "actor = pilas.actores.Actor()\n",
    "actor.imagen = 'calabaza.png'\n",
    "actor.aprender('GirarPorSiempre')\n",
    "\n",
    "\n",
    "pilas.ejecutar()\n",
    "```"
   ]
  },
  {
   "cell_type": "markdown",
   "metadata": {
    "slideshow": {
     "slide_type": "slide"
    }
   },
   "source": [
    "![Pilas](CalabazaGiratoria.png)"
   ]
  },
  {
   "cell_type": "code",
   "execution_count": 6,
   "metadata": {
    "collapsed": false,
    "slideshow": {
     "slide_type": "skip"
    }
   },
   "outputs": [
    {
     "name": "stdout",
     "output_type": "stream",
     "text": [
      "Microsoft Windows [Versi¢n 6.3.9600]\r\n",
      "(c) 2013 Microsoft Corporation. Todos los derechos reservados.\r\n",
      "\r\n",
      "C:\\Users\\Jimena\\Documents\\pilas-secundarias-master>ipython nbconvert --to slides \"Tercera Clase Taller Pilas.ipynb\"\n",
      "\r\n",
      "C:\\Users\\Jimena\\Documents\\pilas-secundarias-master>"
     ]
    },
    {
     "name": "stderr",
     "output_type": "stream",
     "text": [
      "[NbConvertApp] Converting notebook Tercera Clase Taller Pilas.ipynb to slides\r\n",
      "[NbConvertApp] Writing 212059 bytes to Tercera Clase Taller Pilas.slides.html\r\n"
     ]
    }
   ],
   "source": [
    "%%cmd\n",
    "ipython nbconvert --to slides \"Tercera Clase Taller Pilas.ipynb\""
   ]
  }
 ],
 "metadata": {
  "celltoolbar": "Slideshow",
  "kernelspec": {
   "display_name": "Python 3",
   "language": "python",
   "name": "python3"
  },
  "language_info": {
   "codemirror_mode": {
    "name": "ipython",
    "version": 3
   },
   "file_extension": ".py",
   "mimetype": "text/x-python",
   "name": "python",
   "nbconvert_exporter": "python",
   "pygments_lexer": "ipython3",
   "version": "3.4.3"
  }
 },
 "nbformat": 4,
 "nbformat_minor": 0
}
